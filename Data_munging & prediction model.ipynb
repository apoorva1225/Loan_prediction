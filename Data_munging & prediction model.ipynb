{
 "cells": [
  {
   "cell_type": "code",
   "execution_count": 113,
   "metadata": {},
   "outputs": [
    {
     "data": {
      "text/plain": [
       "Loan_ID               0\n",
       "Gender               13\n",
       "Married               3\n",
       "Dependents           15\n",
       "Education             0\n",
       "Self_Employed        32\n",
       "ApplicantIncome       0\n",
       "CoapplicantIncome     0\n",
       "LoanAmount           22\n",
       "Loan_Amount_Term     14\n",
       "Credit_History       50\n",
       "Property_Area         0\n",
       "Loan_Status           0\n",
       "dtype: int64"
      ]
     },
     "execution_count": 113,
     "metadata": {},
     "output_type": "execute_result"
    }
   ],
   "source": [
    "import pandas as pd\n",
    "import numpy as np\n",
    "\n",
    "train_data = pd.read_csv(\"train.csv\")\n",
    "test_data = pd.read_csv(\"test.csv\")\n",
    "\n",
    "train_data.apply(lambda x: sum(x.isnull()), axis = 0)\n",
    "# we got the number of missing values"
   ]
  },
  {
   "cell_type": "code",
   "execution_count": 33,
   "metadata": {},
   "outputs": [],
   "source": [
    "# train_data['LoanAmount'].fillna(train_data['LoanAmount'].mean(), inplace=True)\n",
    "\n",
    "# train_data.apply(lambda x: sum(x.isnull()), axis = 0)\n",
    "# #here we imputed the missing values in column LoanAmount"
   ]
  },
  {
   "cell_type": "code",
   "execution_count": 114,
   "metadata": {},
   "outputs": [
    {
     "data": {
      "text/plain": [
       "(array([1, 2, 3, 4]), <a list of 4 Text xticklabel objects>)"
      ]
     },
     "execution_count": 114,
     "metadata": {},
     "output_type": "execute_result"
    },
    {
     "data": {
      "image/png": "[encoded data removed]",
      "text/plain": [
       "<Figure size 432x288 with 1 Axes>"
      ]
     },
     "metadata": {
      "needs_background": "light"
     },
     "output_type": "display_data"
    }
   ],
   "source": [
    "import matplotlib.pyplot as plt\n",
    "%matplotlib inline\n",
    "\n",
    "train_data.boxplot(column='LoanAmount', by=['Education','Self_Employed'])\n",
    "plt.xticks(rotation=45)\n",
    "#this plot shows the LoanAmount spread according to the cadidates education status and employement status"
   ]
  },
  {
   "cell_type": "code",
   "execution_count": 115,
   "metadata": {},
   "outputs": [
    {
     "data": {
      "text/plain": [
       "Loan_ID               0\n",
       "Gender               13\n",
       "Married               3\n",
       "Dependents           15\n",
       "Education             0\n",
       "Self_Employed         0\n",
       "ApplicantIncome       0\n",
       "CoapplicantIncome     0\n",
       "LoanAmount           22\n",
       "Loan_Amount_Term     14\n",
       "Credit_History       50\n",
       "Property_Area         0\n",
       "Loan_Status           0\n",
       "dtype: int64"
      ]
     },
     "execution_count": 115,
     "metadata": {},
     "output_type": "execute_result"
    }
   ],
   "source": [
    "train_data['Self_Employed'].value_counts()\n",
    "\n",
    "# so here we can see that 86% values are 'No', so its safe to impute the missing values to 'No'\n",
    "\n",
    "train_data['Self_Employed'].fillna('No', inplace = True)\n",
    "\n",
    "train_data.apply(lambda x: sum(x.isnull()), axis = 0)"
   ]
  },
  {
   "cell_type": "code",
   "execution_count": 116,
   "metadata": {},
   "outputs": [
    {
     "name": "stdout",
     "output_type": "stream",
     "text": [
      "Education      Graduate  Not Graduate\n",
      "Self_Employed                        \n",
      "No                130.0         113.0\n",
      "Yes               157.5         130.0\n",
      "                            LoanAmount\n",
      "Self_Employed Education               \n",
      "No            Graduate           130.0\n",
      "              Not Graduate       113.0\n",
      "Yes           Graduate           157.5\n",
      "              Not Graduate       130.0\n"
     ]
    }
   ],
   "source": [
    "pivot_t = train_data.pivot_table(values='LoanAmount', index='Self_Employed', columns='Education', \n",
    "                                 aggfunc=np.median)\n",
    "print(pivot_t)\n",
    "\n",
    "pivot_t2 = train_data.pivot_table(values = 'LoanAmount', index = ['Self_Employed', 'Education'], \n",
    "                                  aggfunc=np.median)\n",
    "print(pivot_t2)"
   ]
  },
  {
   "cell_type": "code",
   "execution_count": 117,
   "metadata": {
    "scrolled": true
   },
   "outputs": [
    {
     "data": {
      "text/plain": [
       "Loan_ID               0\n",
       "Gender               13\n",
       "Married               3\n",
       "Dependents           15\n",
       "Education             0\n",
       "Self_Employed         0\n",
       "ApplicantIncome       0\n",
       "CoapplicantIncome     0\n",
       "LoanAmount            0\n",
       "Loan_Amount_Term     14\n",
       "Credit_History       50\n",
       "Property_Area         0\n",
       "Loan_Status           0\n",
       "dtype: int64"
      ]
     },
     "execution_count": 117,
     "metadata": {},
     "output_type": "execute_result"
    }
   ],
   "source": [
    "#now we'll replace the missing values\n",
    "\n",
    "#function to return values from above pivot table\n",
    "def return_value(x):\n",
    "    return pivot_t.loc[x['Self_Employed'],x['Education']]\n",
    "\n",
    "#replacing\n",
    "train_data['LoanAmount'].fillna(train_data[train_data['LoanAmount'].isnull()].apply(return_value, axis=1), inplace=True)\n",
    "\n",
    "train_data.apply(lambda x: sum(x.isnull()), axis = 0)\n",
    "\n",
    "#NOTE: this will only work if you havent filled the LoanAmount variable using mean. Which we did earlier"
   ]
  },
  {
   "cell_type": "code",
   "execution_count": 118,
   "metadata": {},
   "outputs": [
    {
     "data": {
      "text/plain": [
       "<matplotlib.axes._subplots.AxesSubplot at 0x7f355d8ce588>"
      ]
     },
     "execution_count": 118,
     "metadata": {},
     "output_type": "execute_result"
    },
    {
     "data": {
      "image/png": "[encoded data removed]",
      "text/plain": [
       "<Figure size 432x288 with 1 Axes>"
      ]
     },
     "metadata": {
      "needs_background": "light"
     },
     "output_type": "display_data"
    }
   ],
   "source": [
    "#handling extreme values\n",
    "\n",
    "#LoanAmount - here instead of treating the extreme values as outliers, we will try to nullify their effect using log transformation\n",
    "# #before\n",
    "# train_data['LoanAmount'].hist(bins=50)\n",
    "\n",
    "train_data['LoanAmount_log'] = np.log(train_data['LoanAmount'])\n",
    "#after\n",
    "train_data['LoanAmount_log'].hist(bins=20)\n",
    "#now the distribution looks much closer to normal and the effect of outliers has been significantly subsided"
   ]
  },
  {
   "cell_type": "code",
   "execution_count": 119,
   "metadata": {},
   "outputs": [
    {
     "data": {
      "text/plain": [
       "<matplotlib.axes._subplots.AxesSubplot at 0x7f355d945048>"
      ]
     },
     "execution_count": 119,
     "metadata": {},
     "output_type": "execute_result"
    },
    {
     "data": {
      "image/png": "[encoded data removed]",
      "text/plain": [
       "<Figure size 432x288 with 1 Axes>"
      ]
     },
     "metadata": {
      "needs_background": "light"
     },
     "output_type": "display_data"
    }
   ],
   "source": [
    "#Applicant_Income - here our intuition is that an applicant can have lower income but strong support co-applicant.\n",
    "#so it might be a good idea to combine both incomes as total income and take log transformation of the same.\n",
    "\n",
    "train_data['total_income']=train_data['ApplicantIncome']+train_data['CoapplicantIncome']\n",
    "\n",
    "train_data['total_income_log'] = np.log(train_data['total_income'])\n",
    "\n",
    "train_data['total_income_log'].hist(bins=20)"
   ]
  },
  {
   "cell_type": "code",
   "execution_count": 120,
   "metadata": {},
   "outputs": [
    {
     "data": {
      "text/plain": [
       "Loan_ID              0\n",
       "Gender               0\n",
       "Married              0\n",
       "Dependents           0\n",
       "Education            0\n",
       "Self_Employed        0\n",
       "ApplicantIncome      0\n",
       "CoapplicantIncome    0\n",
       "LoanAmount           0\n",
       "Loan_Amount_Term     0\n",
       "Credit_History       0\n",
       "Property_Area        0\n",
       "Loan_Status          0\n",
       "LoanAmount_log       0\n",
       "total_income         0\n",
       "total_income_log     0\n",
       "dtype: int64"
      ]
     },
     "execution_count": 120,
     "metadata": {},
     "output_type": "execute_result"
    }
   ],
   "source": [
    "#filling remaining missing values -Gender, Married, Dependents, Loan_Amount_Term, Credit_History\n",
    "\n",
    "train_data['Gender'].fillna(train_data['Gender'].mode()[0], inplace=True)\n",
    "train_data['Married'].fillna(train_data['Married'].mode()[0], inplace=True)\n",
    "train_data['Dependents'].fillna(train_data['Dependents'].mode()[0], inplace=True)\n",
    "train_data['Loan_Amount_Term'].fillna(train_data['Loan_Amount_Term'].mode()[0], inplace=True)\n",
    "train_data['Credit_History'].fillna(train_data['Credit_History'].mode()[0], inplace=True)\n",
    "\n",
    "train_data.apply(lambda x: sum(x.isnull()), axis = 0)\n"
   ]
  },
  {
   "cell_type": "code",
   "execution_count": 121,
   "metadata": {},
   "outputs": [
    {
     "data": {
      "text/plain": [
       "Loan_ID               object\n",
       "Gender                 int64\n",
       "Married                int64\n",
       "Dependents             int64\n",
       "Education              int64\n",
       "Self_Employed          int64\n",
       "ApplicantIncome        int64\n",
       "CoapplicantIncome    float64\n",
       "LoanAmount           float64\n",
       "Loan_Amount_Term     float64\n",
       "Credit_History       float64\n",
       "Property_Area          int64\n",
       "Loan_Status            int64\n",
       "LoanAmount_log       float64\n",
       "total_income         float64\n",
       "total_income_log     float64\n",
       "dtype: object"
      ]
     },
     "execution_count": 121,
     "metadata": {},
     "output_type": "execute_result"
    }
   ],
   "source": [
    "#before we go on building our prediction model, we first need to convert all our categorical variables \n",
    "#into numeric by encoding the categories\n",
    "\n",
    "from sklearn.preprocessing import LabelEncoder\n",
    "\n",
    "variables = ['Gender', 'Married', 'Self_Employed', 'Dependents','Education', 'Property_Area', 'Loan_Status']\n",
    "\n",
    "le = LabelEncoder()\n",
    "\n",
    "for x in variables:\n",
    "    train_data[x] = le.fit_transform(train_data[x])\n",
    "\n",
    "train_data.dtypes"
   ]
  },
  {
   "cell_type": "code",
   "execution_count": 122,
   "metadata": {},
   "outputs": [
    {
     "name": "stdout",
     "output_type": "stream",
     "text": [
      "Accuracy score:  0.8094462540716613\n",
      "LogisticRegression(C=1.0, class_weight=None, dual=False, fit_intercept=True,\n",
      "                   intercept_scaling=1, l1_ratio=None, max_iter=100,\n",
      "                   multi_class='warn', n_jobs=None, penalty='l2',\n",
      "                   random_state=None, solver='warn', tol=0.0001, verbose=0,\n",
      "                   warm_start=False)\n",
      "Accuracy score:  0.8094462540716613\n",
      "LogisticRegression(C=1.0, class_weight=None, dual=False, fit_intercept=True,\n",
      "                   intercept_scaling=1, l1_ratio=None, max_iter=100,\n",
      "                   multi_class='warn', n_jobs=None, penalty='l2',\n",
      "                   random_state=None, solver='warn', tol=0.0001, verbose=0,\n",
      "                   warm_start=False)\n"
     ]
    },
    {
     "name": "stderr",
     "output_type": "stream",
     "text": [
      "/home/apoorva/anaconda3/lib/python3.7/site-packages/sklearn/linear_model/logistic.py:432: FutureWarning: Default solver will be changed to 'lbfgs' in 0.22. Specify a solver to silence this warning.\n",
      "  FutureWarning)\n",
      "/home/apoorva/anaconda3/lib/python3.7/site-packages/sklearn/linear_model/logistic.py:432: FutureWarning: Default solver will be changed to 'lbfgs' in 0.22. Specify a solver to silence this warning.\n",
      "  FutureWarning)\n"
     ]
    }
   ],
   "source": [
    "from sklearn.tree import DecisionTreeClassifier\n",
    "from sklearn.ensemble import RandomForestClassifier\n",
    "from sklearn.linear_model import LogisticRegression\n",
    "from sklearn.metrics import accuracy_score\n",
    "\n",
    "def classification_model(model, data, predictors, outcome):\n",
    "    model.fit(data[predictors], data[outcome])\n",
    "    \n",
    "    prediction=model.predict(data[predictors])\n",
    "    accuracy = accuracy_score(prediction,data[outcome])\n",
    "    print(\"Accuracy score: \", accuracy)\n",
    "    print(model)\n",
    "    \n",
    "model1 = LogisticRegression()\n",
    "predictors1 = ['Credit_History']\n",
    "outcome = 'Loan_Status'\n",
    "classification_model(model1, train_data, predictors1, outcome)\n",
    "\n",
    "more_predictors = ['Credit_History', 'Education','Married', 'Self_Employed', 'Property_Area']\n",
    "classification_model(model1, train_data, more_predictors, outcome)\n"
   ]
  },
  {
   "cell_type": "code",
   "execution_count": 123,
   "metadata": {
    "scrolled": true
   },
   "outputs": [
    {
     "name": "stdout",
     "output_type": "stream",
     "text": [
      "Accuracy score:  0.8094462540716613\n",
      "DecisionTreeClassifier(class_weight=None, criterion='gini', max_depth=None,\n",
      "                       max_features=None, max_leaf_nodes=None,\n",
      "                       min_impurity_decrease=0.0, min_impurity_split=None,\n",
      "                       min_samples_leaf=1, min_samples_split=2,\n",
      "                       min_weight_fraction_leaf=0.0, presort=False,\n",
      "                       random_state=None, splitter='best')\n",
      "Accuracy score:  0.8892508143322475\n",
      "DecisionTreeClassifier(class_weight=None, criterion='gini', max_depth=None,\n",
      "                       max_features=None, max_leaf_nodes=None,\n",
      "                       min_impurity_decrease=0.0, min_impurity_split=None,\n",
      "                       min_samples_leaf=1, min_samples_split=2,\n",
      "                       min_weight_fraction_leaf=0.0, presort=False,\n",
      "                       random_state=None, splitter='best')\n"
     ]
    }
   ],
   "source": [
    "model2 = DecisionTreeClassifier()\n",
    "predictors2 = ['Credit_History','Gender','Married','Education']\n",
    "classification_model(model2, train_data, predictors2, outcome)\n",
    "\n",
    "more_predictors2 = ['Credit_History','Loan_Amount_Term','LoanAmount_log']\n",
    "classification_model(model2, train_data, more_predictors2, outcome)"
   ]
  },
  {
   "cell_type": "code",
   "execution_count": 124,
   "metadata": {},
   "outputs": [
    {
     "name": "stdout",
     "output_type": "stream",
     "text": [
      "Accuracy score:  0.9869706840390879\n",
      "RandomForestClassifier(bootstrap=True, class_weight=None, criterion='gini',\n",
      "                       max_depth=None, max_features='auto', max_leaf_nodes=None,\n",
      "                       min_impurity_decrease=0.0, min_impurity_split=None,\n",
      "                       min_samples_leaf=1, min_samples_split=2,\n",
      "                       min_weight_fraction_leaf=0.0, n_estimators=10,\n",
      "                       n_jobs=None, oob_score=False, random_state=None,\n",
      "                       verbose=0, warm_start=False)\n"
     ]
    },
    {
     "name": "stderr",
     "output_type": "stream",
     "text": [
      "/home/apoorva/anaconda3/lib/python3.7/site-packages/sklearn/ensemble/forest.py:245: FutureWarning: The default value of n_estimators will change from 10 in version 0.20 to 100 in 0.22.\n",
      "  \"10 in version 0.20 to 100 in 0.22.\", FutureWarning)\n"
     ]
    }
   ],
   "source": [
    "model3 = RandomForestClassifier()\n",
    "predictors3 = ['Gender', 'Married', 'Dependents', 'Education','Self_Employed',\n",
    "               'Loan_Amount_Term', 'Credit_History', 'Property_Area',\n",
    "               'LoanAmount_log','total_income_log']\n",
    "classification_model(model3, train_data, predictors3, outcome)"
   ]
  }
 ],
 "metadata": {
  "kernelspec": {
   "display_name": "Python 3",
   "language": "python",
   "name": "python3"
  },
  "language_info": {
   "codemirror_mode": {
    "name": "ipython",
    "version": 3
   },
   "file_extension": ".py",
   "mimetype": "text/x-python",
   "name": "python",
   "nbconvert_exporter": "python",
   "pygments_lexer": "ipython3",
   "version": "3.7.3"
  }
 },
 "nbformat": 4,
 "nbformat_minor": 2
}
